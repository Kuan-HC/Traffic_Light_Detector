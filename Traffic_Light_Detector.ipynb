{
 "cells": [
  {
   "cell_type": "code",
   "execution_count": null,
   "metadata": {},
   "outputs": [],
   "source": [
    "import tensorflow as tf"
   ]
  },
  {
   "cell_type": "code",
   "execution_count": null,
   "metadata": {},
   "outputs": [],
   "source": [
    "class TLClassifier(object):\n",
    "    def __init__(self):\n",
    "        #TODO load classifier\n",
    "        SSD_GRAPH_FILE = 'sfrozen_inference_graph.pb'\n",
    "        \n",
    "        #self.session = None\n",
    "        self.detection_graph = self.load_graph(SSD_GRAPH_FILE)\n",
    "    \n",
    "    def load_graph(self, graph_file):\n",
    "        \"\"\"Loads a frozen inference graph\"\"\"\n",
    "        graph = tf.Graph()\n",
    "        with graph.as_default():\n",
    "            od_graph_def = tf.GraphDef()\n",
    "            with tf.gfile.GFile(graph_file, 'rb') as fid:\n",
    "                serialized_graph = fid.read()\n",
    "                od_graph_def.ParseFromString(serialized_graph)\n",
    "                tf.import_graph_def(od_graph_def, name='')\n",
    "                \n",
    "        return graph\n",
    "    \n",
    "    def get_classification(self, image):\n",
    "        \"\"\"Determines the color of the traffic light in the image\n",
    "\n",
    "        Args:\n",
    "            image (cv::Mat): image containing the traffic light\n",
    "\n",
    "        Returns:\n",
    "            int: ID of traffic light color (specified in styx_msgs/TrafficLight)\n",
    "\n",
    "        \"\"\"\n",
    "        #TODO implement light color prediction\n",
    "        # The input placeholder for the image.\n",
    "        # `get_tensor_by_name` returns the Tensor with the associated name in the Graph.\n",
    "        image_tensor = detection_graph.get_tensor_by_name('image_tensor:0')\n",
    "\n",
    "        # Each box represents a part of the image where a particular object was detected.\n",
    "        detection_boxes = detection_graph.get_tensor_by_name('detection_boxes:0')\n",
    "\n",
    "        # Each score represent how level of confidence for each of the objects.\n",
    "        # Score is shown on the result image, together with the class label.\n",
    "        detection_scores = detection_graph.get_tensor_by_name('detection_scores:0')\n",
    "\n",
    "        # The classification of the object (integer id).\n",
    "        detection_classes = detection_graph.get_tensor_by_name('detection_classes:0')\n",
    "        \n",
    "        image = cv2.resize(image, (300, 300))\n",
    "        image = cv2.cvtColor(image, cv2.COLOR_BGR2RGB)\n",
    "        image_np = np.expand_dims(np.asarray(image, dtype=np.uint8), 0)\n",
    "        \n",
    "        with tf.Session(graph=detection_graph) as sess:                \n",
    "        # Actual detection.\n",
    "            (boxes, scores, classes) = sess.run([detection_boxes, detection_scores, detection_classes], \n",
    "                                        feed_dict={image_tensor: image_np})\n",
    "\n",
    "            # Remove unnecessary dimensions\n",
    "            boxes = np.squeeze(boxes)\n",
    "            scores = np.squeeze(scores)\n",
    "            classes = np.squeeze(classes)      \n",
    "        \n",
    "        \n",
    "        return TrafficLight.UNKNOWN\n",
    "        "
   ]
  },
  {
   "cell_type": "code",
   "execution_count": null,
   "metadata": {},
   "outputs": [],
   "source": [
    "graph = TLClassifier()"
   ]
  },
  {
   "cell_type": "code",
   "execution_count": null,
   "metadata": {},
   "outputs": [],
   "source": []
  }
 ],
 "metadata": {
  "kernelspec": {
   "display_name": "Python 3",
   "language": "python",
   "name": "python3"
  },
  "language_info": {
   "codemirror_mode": {
    "name": "ipython",
    "version": 3
   },
   "file_extension": ".py",
   "mimetype": "text/x-python",
   "name": "python",
   "nbconvert_exporter": "python",
   "pygments_lexer": "ipython3",
   "version": "3.7.1"
  }
 },
 "nbformat": 4,
 "nbformat_minor": 4
}
